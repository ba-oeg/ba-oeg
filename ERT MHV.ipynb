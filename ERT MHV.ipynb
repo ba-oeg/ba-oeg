{
 "cells": [
  {
   "cell_type": "markdown",
   "id": "4e2cb6cb-824c-4bc8-bdd1-0634eabf60e1",
   "metadata": {},
   "source": [
    "# Med Havvind 2I-1, 3J-1 3 april 2024\n",
    "## Beskrivelse\n",
    "Noter såvel som kode i forbindelse med forståelsen og behandlingen af data for Tvf.\n",
    "\n",
    "\n",
    "\n",
    "Opstillingen er en Schlumberger 200 meter linjer\n",
    "\n",
    "DOI = 80m (Depth of investigation)\n",
    "\n",
    "Model = 20m\n",
    "\n",
    "Injektionstid = 5,1 s A-B \n",
    "\n",
    "\n",
    "\n",
    "\n"
   ]
  },
  {
   "cell_type": "code",
   "execution_count": 16,
   "id": "f523afe9-b029-45b5-83e8-b2348ded829a",
   "metadata": {},
   "outputs": [],
   "source": [
    "import sqlite3 as sq\n",
    "import os\n",
    "\n",
    "import matplotlib.pyplot as plt\n",
    "import numpy as np\n",
    "\n",
    "import pygimli as pg\n",
    "import pygimli.meshtools as mt\n",
    "from pygimli.physics import ert\n",
    "\n"
   ]
  },
  {
   "cell_type": "markdown",
   "id": "926d79c6-438a-4685-981c-fd23df0a0346",
   "metadata": {},
   "source": [
    "## Programmer"
   ]
  },
  {
   "cell_type": "code",
   "execution_count": 17,
   "id": "bda520d2-cf12-44a6-9033-664a123d718d",
   "metadata": {},
   "outputs": [
    {
     "data": {
      "text/plain": [
       "<os._wrap_close at 0x7f6f6f40e5d0>"
      ]
     },
     "execution_count": 17,
     "metadata": {},
     "output_type": "execute_result"
    },
    {
     "name": "stderr",
     "output_type": "stream",
     "text": [
      "<string>:1: DeprecationWarning: setapi() is deprecated\n"
     ]
    }
   ],
   "source": [
    "#vi skal bruge x y koord ab imnr\n",
    "#db = sq.connect('/home/torben/Dropbox/MHV/MHV28_LS217080421_2024-04-03_08-32-54/project.db')\n",
    "#cur = db.cursor()\n",
    "\n",
    "#Græsk tastatur\n",
    "γραεσκ = \"setxkbmap \\'dk,gr\\' -variant \\',polytonic\\' -option \\'grp:alt_shift_toggle\\'\"\n",
    "os.popen(γραεσκ)\n",
    "#Terameter toolbox\n",
    "##$winecfg \n",
    "##winetricks msxml6\n",
    "wine = \"wine ~/.wine/drive_c/ProgramFiles\\(x86\\)/ABEM/Terrameter/TerrameterToolbox.exe\"\n",
    "os.popen(wine)\n",
    "##eksporter til .udf\n",
    "\n",
    "#qGis\n",
    "##\"ideelt noget med at kunne skrive direkte til iface\"\n",
    "os.popen('qgis --nologo --project ~/Dropbox/MHV/qGis/MHV20240401.qgz ')"
   ]
  },
  {
   "cell_type": "code",
   "execution_count": 28,
   "id": "14d3bd7d-3cb8-44f5-9aae-129c9aad1805",
   "metadata": {
    "scrolled": true
   },
   "outputs": [],
   "source": [
    "ρΑ = 'rhoa'"
   ]
  },
  {
   "cell_type": "code",
   "execution_count": 19,
   "id": "33c567a9-f1e8-47aa-b6cc-a8e7a065269e",
   "metadata": {},
   "outputs": [
    {
     "name": "stdout",
     "output_type": "stream",
     "text": [
      "Data: Sensors: 84 data: 3831, nonzero entries: ['a', 'b', 'm', 'n', 'r', 'valid']\n"
     ]
    }
   ],
   "source": [
    "_3J1 = ert.load('/home/torben/Dropbox/MHV/MHV28_LS217080421_2024-04-03_08-32-54/nyfil.udf')\n",
    "print(_3J1)"
   ]
  },
  {
   "cell_type": "code",
   "execution_count": 20,
   "id": "aafd9482-16fe-4682-a7d3-a8e791940052",
   "metadata": {
    "scrolled": true
   },
   "outputs": [
    {
     "data": {
      "text/plain": [
       "[<matplotlib.lines.Line2D at 0x7f6f6eb78950>]"
      ]
     },
     "execution_count": 20,
     "metadata": {},
     "output_type": "execute_result"
    },
    {
     "data": {
      "image/png": "[encoded data removed]",
      "text/plain": [
       "<Figure size 640x480 with 1 Axes>"
      ]
     },
     "metadata": {},
     "output_type": "display_data"
    }
   ],
   "source": [
    "fig, ax = plt.subplots()\n",
    "ax.plot(pg.x(_3J1), pg.z(_3J1), \"o-\")"
   ]
  },
  {
   "cell_type": "markdown",
   "id": "2546eef1-2031-44f9-b05f-5788c29b7522",
   "metadata": {},
   "source": [
    "$$Ρ(x,σ,μ,)=\\frac{1}{σ\\sqrt{2π}}e-^{(x-μ)²/2σ²}$$\n"
   ]
  },
  {
   "cell_type": "code",
   "execution_count": 21,
   "id": "20676e8e-1285-4a9f-8602-d5e7c466ade7",
   "metadata": {},
   "outputs": [
    {
     "name": "stdout",
     "output_type": "stream",
     "text": [
      "85\n"
     ]
    }
   ],
   "source": [
    "# højde til udf\n",
    "udf = '/home/torben/Dropbox/MHV/MHV28_LS217080421_2024-04-03_08-32-54/MHV28_grn2_v4_2.udf'\n",
    "koord = '/home/torben/Dropbox/MHV/MHV28_LS217080421_2024-04-03_08-32-54/ERT enet mar24f.csv'\n",
    "nyfil = '/home/torben/Dropbox/MHV/MHV28_LS217080421_2024-04-03_08-32-54/nyfil.udf'\n",
    "b = 2611\n",
    "s = 2696\n",
    "\n",
    "z = [ i.split(',')[4] for i in open(koord).readlines()[b:s]]\n",
    "print(len(z))\n",
    "f = open(nyfil,'a')\n",
    "\n",
    "for line in open(udf).readlines():\n",
    "    line_split = line.split('\\t')\n",
    "    try:\n",
    "        count = int(line.split(' ')[-1])\n",
    "        line_split[2] = z[count]\n",
    "        l = '\\t'.join(line_split)\n",
    "        f.write('{} #{}\\n'.format(l,count))\n",
    "    except:\n",
    "        f.write(line)\n",
    "\n",
    "f.close()\n",
    "    \n"
   ]
  },
  {
   "cell_type": "code",
   "execution_count": 22,
   "id": "5486f845-740e-481c-92a8-a8fdce212fe5",
   "metadata": {
    "scrolled": true
   },
   "outputs": [
    {
     "name": "stderr",
     "output_type": "stream",
     "text": [
      "21/06/24 - 11:09:31 - pyGIMLi - \u001b[0;32;49mINFO\u001b[0m - Found 2 regions.\n",
      "21/06/24 - 11:09:31 - pyGIMLi - \u001b[0;32;49mINFO\u001b[0m - (ERTModelling) Region with smallest marker (1) set to background.\n",
      "21/06/24 - 11:09:31 - pyGIMLi - \u001b[0;32;49mINFO\u001b[0m - Found 2 regions.\n",
      "21/06/24 - 11:09:31 - pyGIMLi - \u001b[0;32;49mINFO\u001b[0m - (ERTModelling) Region with smallest marker (1) set to background.\n",
      "21/06/24 - 11:09:31 - pyGIMLi - \u001b[5;31;1;49mCRITICAL\u001b[0m - <class 'pygimli.physics.ert.ertManager.ERTManager'>.checkData(ertManager.py:215)\n",
      "Data contains no geometric factors data['k'].\n"
     ]
    },
    {
     "ename": "Exception",
     "evalue": "Data contains no geometric factors data['k'].",
     "output_type": "error",
     "traceback": [
      "\u001b[0;31m---------------------------------------------------------------------------\u001b[0m",
      "\u001b[0;31mException\u001b[0m                                 Traceback (most recent call last)",
      "Cell \u001b[0;32mIn[22], line 2\u001b[0m\n\u001b[1;32m      1\u001b[0m mgr_3J1 \u001b[38;5;241m=\u001b[39m ert\u001b[38;5;241m.\u001b[39mERTManager(nyfil)\n\u001b[0;32m----> 2\u001b[0m inv \u001b[38;5;241m=\u001b[39m \u001b[43mmgr_3J1\u001b[49m\u001b[38;5;241;43m.\u001b[39;49m\u001b[43minvert\u001b[49m\u001b[43m(\u001b[49m\u001b[43mlam\u001b[49m\u001b[38;5;241;43m=\u001b[39;49m\u001b[38;5;241;43m20\u001b[39;49m\u001b[43m,\u001b[49m\u001b[43m \u001b[49m\u001b[43mverbose\u001b[49m\u001b[38;5;241;43m=\u001b[39;49m\u001b[38;5;28;43;01mTrue\u001b[39;49;00m\u001b[43m)\u001b[49m\n\u001b[1;32m      3\u001b[0m np\u001b[38;5;241m.\u001b[39mtesting\u001b[38;5;241m.\u001b[39massert_approx_equal(mgr\u001b[38;5;241m.\u001b[39minv\u001b[38;5;241m.\u001b[39mchi2(), \u001b[38;5;241m0.7\u001b[39m, significant\u001b[38;5;241m=\u001b[39m\u001b[38;5;241m1\u001b[39m)\n",
      "File \u001b[0;32m~/miniconda3/miniconda3/envs/pg/lib/python3.11/site-packages/pygimli/frameworks/methodManager.py:822\u001b[0m, in \u001b[0;36mMeshMethodManager.invert\u001b[0;34m(self, data, mesh, startModel, **kwargs)\u001b[0m\n\u001b[1;32m    819\u001b[0m \u001b[38;5;66;03m# remove unused keyword argument .. need better kwargfs\u001b[39;00m\n\u001b[1;32m    820\u001b[0m \u001b[38;5;28mself\u001b[39m\u001b[38;5;241m.\u001b[39mfop\u001b[38;5;241m.\u001b[39m_refineP2 \u001b[38;5;241m=\u001b[39m kwargs\u001b[38;5;241m.\u001b[39mpop(\u001b[38;5;124m'\u001b[39m\u001b[38;5;124mrefineP2\u001b[39m\u001b[38;5;124m'\u001b[39m, \u001b[38;5;28;01mFalse\u001b[39;00m)\n\u001b[0;32m--> 822\u001b[0m dataVals \u001b[38;5;241m=\u001b[39m \u001b[38;5;28;43mself\u001b[39;49m\u001b[38;5;241;43m.\u001b[39;49m\u001b[43m_ensureData\u001b[49m\u001b[43m(\u001b[49m\u001b[38;5;28;43mself\u001b[39;49m\u001b[38;5;241;43m.\u001b[39;49m\u001b[43mfop\u001b[49m\u001b[38;5;241;43m.\u001b[39;49m\u001b[43mdata\u001b[49m\u001b[43m)\u001b[49m\n\u001b[1;32m    823\u001b[0m errorVals \u001b[38;5;241m=\u001b[39m \u001b[38;5;28mself\u001b[39m\u001b[38;5;241m.\u001b[39m_ensureError(\u001b[38;5;28mself\u001b[39m\u001b[38;5;241m.\u001b[39mfop\u001b[38;5;241m.\u001b[39mdata, dataVals)\n\u001b[1;32m    825\u001b[0m \u001b[38;5;28;01mif\u001b[39;00m \u001b[38;5;28mself\u001b[39m\u001b[38;5;241m.\u001b[39mfop\u001b[38;5;241m.\u001b[39mmesh() \u001b[38;5;129;01mis\u001b[39;00m \u001b[38;5;28;01mNone\u001b[39;00m:\n",
      "File \u001b[0;32m~/miniconda3/miniconda3/envs/pg/lib/python3.11/site-packages/pygimli/frameworks/methodManager.py:344\u001b[0m, in \u001b[0;36mMethodManager._ensureData\u001b[0;34m(self, data)\u001b[0m\n\u001b[1;32m    341\u001b[0m \u001b[38;5;28;01mif\u001b[39;00m data \u001b[38;5;129;01mis\u001b[39;00m \u001b[38;5;28;01mNone\u001b[39;00m:\n\u001b[1;32m    342\u001b[0m     data \u001b[38;5;241m=\u001b[39m \u001b[38;5;28mself\u001b[39m\u001b[38;5;241m.\u001b[39mfw\u001b[38;5;241m.\u001b[39mdataVals\n\u001b[0;32m--> 344\u001b[0m vals \u001b[38;5;241m=\u001b[39m \u001b[38;5;28;43mself\u001b[39;49m\u001b[38;5;241;43m.\u001b[39;49m\u001b[43mcheckData\u001b[49m\u001b[43m(\u001b[49m\u001b[43mdata\u001b[49m\u001b[43m)\u001b[49m\n\u001b[1;32m    346\u001b[0m \u001b[38;5;28;01mif\u001b[39;00m vals \u001b[38;5;129;01mis\u001b[39;00m \u001b[38;5;28;01mNone\u001b[39;00m:\n\u001b[1;32m    347\u001b[0m     pg\u001b[38;5;241m.\u001b[39mcritical(\u001b[38;5;124m\"\u001b[39m\u001b[38;5;124mThere are no data values.\u001b[39m\u001b[38;5;124m\"\u001b[39m)\n",
      "File \u001b[0;32m~/miniconda3/miniconda3/envs/pg/lib/python3.11/site-packages/pygimli/physics/ert/ertManager.py:215\u001b[0m, in \u001b[0;36mERTManager.checkData\u001b[0;34m(self, data)\u001b[0m\n\u001b[1;32m    213\u001b[0m \u001b[38;5;28;01mif\u001b[39;00m \u001b[38;5;28misinstance\u001b[39m(data, pg\u001b[38;5;241m.\u001b[39mDataContainer):\n\u001b[1;32m    214\u001b[0m     \u001b[38;5;28;01mif\u001b[39;00m \u001b[38;5;129;01mnot\u001b[39;00m data\u001b[38;5;241m.\u001b[39mallNonZero(\u001b[38;5;124m'\u001b[39m\u001b[38;5;124mk\u001b[39m\u001b[38;5;124m'\u001b[39m):\n\u001b[0;32m--> 215\u001b[0m         \u001b[43mpg\u001b[49m\u001b[38;5;241;43m.\u001b[39;49m\u001b[43mcritical\u001b[49m\u001b[43m(\u001b[49m\u001b[38;5;124;43m\"\u001b[39;49m\u001b[38;5;124;43mData contains no geometric factors data[\u001b[39;49m\u001b[38;5;124;43m'\u001b[39;49m\u001b[38;5;124;43mk\u001b[39;49m\u001b[38;5;124;43m'\u001b[39;49m\u001b[38;5;124;43m].\u001b[39;49m\u001b[38;5;124;43m\"\u001b[39;49m\u001b[43m)\u001b[49m\n\u001b[1;32m    216\u001b[0m         \u001b[38;5;66;03m# numeric = min(pg.z(data)) != max(pg.z(data))\u001b[39;00m\n\u001b[1;32m    217\u001b[0m         \u001b[38;5;66;03m# data['k'] = createGeometricFactors(data,\u001b[39;00m\n\u001b[1;32m    218\u001b[0m         \u001b[38;5;66;03m#                                 numerical=topo,\u001b[39;00m\n\u001b[1;32m    219\u001b[0m         \u001b[38;5;66;03m#                                 #p2=True,\u001b[39;00m\n\u001b[1;32m    220\u001b[0m         \u001b[38;5;66;03m#                                 verbose=self.verbose)\u001b[39;00m\n\u001b[1;32m    222\u001b[0m     \u001b[38;5;28;01mif\u001b[39;00m \u001b[38;5;28mself\u001b[39m\u001b[38;5;241m.\u001b[39mfop\u001b[38;5;241m.\u001b[39mcomplex():\n",
      "File \u001b[0;32m~/miniconda3/miniconda3/envs/pg/lib/python3.11/site-packages/pygimli/core/logger.py:301\u001b[0m, in \u001b[0;36mcritical\u001b[0;34m(*args)\u001b[0m\n\u001b[1;32m    299\u001b[0m \u001b[38;5;28;01mdef\u001b[39;00m \u001b[38;5;21mcritical\u001b[39m(\u001b[38;5;241m*\u001b[39margs):\n\u001b[1;32m    300\u001b[0m     logger\u001b[38;5;241m.\u001b[39mcritical(whereAmI(nr\u001b[38;5;241m=\u001b[39m\u001b[38;5;241m2\u001b[39m) \u001b[38;5;241m+\u001b[39m \u001b[38;5;124m\"\u001b[39m\u001b[38;5;130;01m\\n\u001b[39;00m\u001b[38;5;124m\"\u001b[39m \u001b[38;5;241m+\u001b[39m _msg(\u001b[38;5;241m*\u001b[39margs))\n\u001b[0;32m--> 301\u001b[0m     \u001b[38;5;28;01mraise\u001b[39;00m \u001b[38;5;167;01mException\u001b[39;00m(_msg(\u001b[38;5;241m*\u001b[39margs))\n",
      "\u001b[0;31mException\u001b[0m: Data contains no geometric factors data['k']."
     ]
    }
   ],
   "source": [
    "mgr_3J1 = ert.ERTManager(nyfil)\n",
    "inv = mgr_3J1.invert(lam=20, verbose=True)\n",
    "np.testing.assert_approx_equal(mgr.inv.chi2(), 0.7, significant=1)\n"
   ]
  },
  {
   "cell_type": "code",
   "execution_count": 23,
   "id": "9530f690-55e4-48a1-9bb7-f51f2a4ebb63",
   "metadata": {},
   "outputs": [
    {
     "name": "stderr",
     "output_type": "stream",
     "text": [
      "21/06/24 - 11:09:32 - pyGIMLi - \u001b[0;32;49mINFO\u001b[0m - Cache /home/torben/miniconda3/miniconda3/envs/pg/lib/python3.11/site-packages/pygimli/physics/ert/ert.py:createGeometricFactors restored (17.9s x 8): /home/torben/.cache/pygimli/10425235389467901910\n",
      "21/06/24 - 11:09:32 - pyGIMLi - \u001b[0;32;49mINFO\u001b[0m - Cache /home/torben/miniconda3/miniconda3/envs/pg/lib/python3.11/site-packages/pygimli/physics/ert/ert.py:createGeometricFactors restored (0.0s x 6): /home/torben/.cache/pygimli/15635112420437595812\n"
     ]
    },
    {
     "data": {
      "text/plain": [
       "<function pygimli.physics.ert.visualization.showERTData(data, vals=None, **kwargs)>"
      ]
     },
     "execution_count": 23,
     "metadata": {},
     "output_type": "execute_result"
    },
    {
     "data": {
      "image/png": "[encoded data removed]",
      "text/plain": [
       "<Figure size 640x480 with 2 Axes>"
      ]
     },
     "metadata": {},
     "output_type": "display_data"
    }
   ],
   "source": [
    "_3J1 = ert.load(nyfil)\n",
    "_3J1['k'] = ert.createGeometricFactors(_3J1, numerical = True)\n",
    "\n",
    "k0 = ert.createGeometricFactors(_3J1)\n",
    "ert.show(_3J1, vals=k0/_3J1['k'], label='Topography effect',\n",
    "        cMap=\"bwr\", cMin=0.8, cMax=1.25, logScale=True);\n",
    "ert.show\n",
    "\n"
   ]
  },
  {
   "cell_type": "code",
   "execution_count": 24,
   "id": "314b7f7c-4263-45b4-aa21-b5364b461e3e",
   "metadata": {},
   "outputs": [
    {
     "data": {
      "image/png": "[encoded data removed]",
      "text/plain": [
       "<Figure size 640x480 with 2 Axes>"
      ]
     },
     "metadata": {},
     "output_type": "display_data"
    }
   ],
   "source": [
    "\n",
    "_3J1['err'] = ert.estimateError(_3J1, \n",
    "                                absoluteUError=0.00005, # 50µV\n",
    "                                relativeError=0.03)  # 3%\n",
    "ert.show(_3J1, _3J1['err']*100, label=\"error [%]\");\n"
   ]
  },
  {
   "cell_type": "code",
   "execution_count": 25,
   "id": "7c01d3d0-f77d-4427-9871-df98d6b1b8a3",
   "metadata": {},
   "outputs": [
    {
     "ename": "SyntaxError",
     "evalue": "invalid syntax (172008789.py, line 1)",
     "output_type": "error",
     "traceback": [
      "\u001b[0;36m  Cell \u001b[0;32mIn[25], line 1\u001b[0;36m\u001b[0m\n\u001b[0;31m    WA 1 = Wenner\u001b[0m\n\u001b[0m       ^\u001b[0m\n\u001b[0;31mSyntaxError\u001b[0m\u001b[0;31m:\u001b[0m invalid syntax\n"
     ]
    }
   ],
   "source": [
    "WA 1 = Wenner\n",
    "SL = Schlumberger\n",
    "DD = Dipol dipol\n",
    "\n",
    "Jupiter database\n",
    "FOHM"
   ]
  },
  {
   "cell_type": "code",
   "execution_count": 26,
   "id": "11857934-d9af-424e-8085-ba6f86ef3c8a",
   "metadata": {},
   "outputs": [
    {
     "name": "stderr",
     "output_type": "stream",
     "text": [
      "21/06/24 - 11:09:35 - pyGIMLi - \u001b[0;32;49mINFO\u001b[0m - Found 2 regions.\n",
      "21/06/24 - 11:09:35 - pyGIMLi - \u001b[0;32;49mINFO\u001b[0m - (ERTModelling) Region with smallest marker (1) set to background.\n",
      "21/06/24 - 11:09:35 - pyGIMLi - \u001b[0;32;49mINFO\u001b[0m - Found 2 regions.\n",
      "21/06/24 - 11:09:35 - pyGIMLi - \u001b[0;32;49mINFO\u001b[0m - (ERTModelling) Region with smallest marker (1) set to background.\n",
      "21/06/24 - 11:09:35 - pyGIMLi - \u001b[0;32;49mINFO\u001b[0m - Creating apparent resistivies from impedences rhoa = r * k\n",
      "21/06/24 - 11:09:35 - pyGIMLi - \u001b[0;32;49mINFO\u001b[0m - Creating forward mesh from region infos.\n",
      "21/06/24 - 11:09:35 - pyGIMLi - \u001b[0;32;49mINFO\u001b[0m - Creating refined mesh (H2) to solve forward task.\n",
      "21/06/24 - 11:09:35 - pyGIMLi - \u001b[0;32;49mINFO\u001b[0m - Mesh for forward task: Mesh: Nodes: 3381 Cells: 6328 Boundaries: 4962\n",
      "21/06/24 - 11:09:35 - pyGIMLi - \u001b[0;32;49mINFO\u001b[0m - Use median(data values)=74.3729206812466\n",
      "21/06/24 - 11:09:35 - pyGIMLi - \u001b[0;32;49mINFO\u001b[0m - Created startmodel from forward operator: 1241, min/max=74.372921/74.372921\n",
      "21/06/24 - 11:09:35 - pyGIMLi - \u001b[0;32;49mINFO\u001b[0m - Starting inversion.\n"
     ]
    },
    {
     "name": "stdout",
     "output_type": "stream",
     "text": [
      "Constructing Delaunay triangulation by divide-and-conquer method.\n",
      "Delaunay milliseconds:  0\n",
      "Recovering segments in Delaunay triangulation.\n",
      "Segment milliseconds:  0\n",
      "Removing unwanted triangles.\n",
      "Spreading regional attributes and area constraints.\n",
      "Hole milliseconds:  0\n",
      "Adding Steiner points to enforce quality.\n",
      "Quality milliseconds:  1\n",
      "\n",
      "Writing vertices.\n",
      "Writing triangles.\n",
      "Writing segments.\n",
      "Writing edges.\n",
      "\n",
      "Output milliseconds:  0\n",
      "Total running milliseconds:  2\n",
      "\n",
      "Statistics:\n",
      "\n",
      "  Input vertices: 175\n",
      "  Input segments: 176\n",
      "  Input holes: 0\n",
      "\n",
      "  Mesh vertices: 900\n",
      "  Mesh triangles: 1582\n",
      "  Mesh edges: 2481\n",
      "  Mesh exterior boundary edges: 216\n",
      "  Mesh interior boundary edges: 31\n",
      "  Mesh subsegments (constrained edges): 247\n",
      "\n",
      "Constructing Delaunay triangulation by divide-and-conquer method.\n",
      "Delaunay milliseconds:  0\n",
      "Recovering segments in Delaunay triangulation.\n",
      "Segment milliseconds:  0\n",
      "Removing unwanted triangles.\n",
      "Spreading regional attributes and area constraints.\n",
      "Hole milliseconds:  0\n",
      "Adding Steiner points to enforce quality.\n",
      "Quality milliseconds:  2\n",
      "\n",
      "Writing vertices.\n",
      "Writing triangles.\n",
      "Writing segments.\n",
      "Writing edges.\n",
      "\n",
      "Output milliseconds:  0\n",
      "Total running milliseconds:  3\n",
      "\n",
      "Statistics:\n",
      "\n",
      "  Input vertices: 175\n",
      "  Input segments: 176\n",
      "  Input holes: 0\n",
      "\n",
      "  Mesh vertices: 900\n",
      "  Mesh triangles: 1582\n",
      "  Mesh edges: 2481\n",
      "  Mesh exterior boundary edges: 216\n",
      "  Mesh interior boundary edges: 31\n",
      "  Mesh subsegments (constrained edges): 247\n",
      "\n",
      "min/max(dweight) = 0.415246/33.3197\n",
      "fop: <pygimli.physics.ert.ertModelling.ERTModelling object at 0x7f6f665ace50>\n",
      "Data transformation: <pgcore._pygimli_.RTransLogLU object at 0x7f6f66007060>\n",
      "Model transformation (cumulative):\n",
      "\t 0 <pgcore._pygimli_.RTransLogLU object at 0x7f6f665e3ca0>\n",
      "min/max (data): 13.18/625\n",
      "min/max (error): 3%/241%\n",
      "min/max (start model): 74.37/74.37\n",
      "--------------------------------------------------------------------------------\n",
      "use model trans from RegionManager\n",
      "Calculating response for model: min = 74.3729 max = 74.3729\n",
      "Allocating memory for primary potential...... 0.0172394\n",
      "\n",
      "No primary potential for secondary field calculation with topography.\n",
      "Creating P2-Primmesh:\t\tNodes: 13089\tCells: 6328\tBoundaries: 9708\n",
      "ModellingBase::setMesh() copying new mesh ... Found topography for surface=54.6106 : 54.6379\n",
      "Found datafile: 84 electrodes\n",
      "Found: 84 node-electrodes\n",
      "rMin = 1.25, rMax = 415\n",
      "NGauLeg + NGauLag for inverse Fouriertransformation: 15 + 4\n",
      "Found non-Neumann domain\n",
      "0.0200318 s\n",
      "FOP updating mesh dependencies ... 1.72e-06 s\n",
      "Forward: time: 14.0401s\n",
      "Interpolating to secondary mesh\n",
      "\n",
      "1596 \t/ 1596\n",
      "Forward: time: 16.5641s\n",
      "Response: min = 74.3729 max = 74.3729 mean = 74.3729\n",
      "Reciprocity rms(modelReciprocity) 0%, max: 0%\n",
      "min/max(dweight) = 0.415246/33.3197\n",
      "Building constraints matrix\n",
      "constraint matrix of size(nBounds x nModel) 1760 x 1241\n",
      "check Jacobian: wrong dimensions: (0x0) should be (3831x1241)  force: 1\n",
      "jacobian size invalid, forced recalc: 1\n",
      "Calculating Jacobian matrix (forced=1)...Using existing subpotentials for createJacobian.\n",
      "S(8/8-std::mt): 0.0187466:time: 10.4788s\n",
      "sens sum: median = 0.991391 min = 0.534643 max = 1.50085\n",
      "inv.iter 0 ... chi² =  376.58\n",
      "--------------------------------------------------------------------------------\n",
      "inv.iter 1 ... ... 10.495 s\n",
      "min data = 13.1804 max data = 624.754 (3831)\n",
      "min error = 0.0300123 max error = 2.40821 (3831)\n",
      "min response = 74.3729 max response = 74.3729 (3831)\n",
      "calc without reference model\n",
      "0: rms/rrms(data, response) = 86.8418/78.1996%\n",
      "0: chi^2(data, response, error, log) = 376.578\n",
      "0: Phi = 1.44267e+06 + 0 * 50 = 1.44267e+06\n",
      "solve CGLSCDWWtrans with lambda = 50\n",
      "Calculating response for model: min = 1.05147 max = 1539.89\n",
      "Using existing primary potentials.\n",
      "Forward: time: 0.68167s\n",
      "Response: min = 2.13371 max = 569.032 mean = 96.0487\n",
      "Reciprocity rms(modelReciprocity) 2.63915%, max: 21.413%\n",
      "1: LS newModel: min = 1.05147; max = 1539.89\n",
      "1: LS newResponse: min = 2.08873; max = 548.693\n",
      "1: rms/rrms(data, LS newResponse) = 11.7221/17.1405%\n",
      "1: chi^2(data, LS newResponse, error, log) = 21.4743\n",
      "1: Phi = 82268+27.9078*50=83663.4\n",
      "Performing line search with tau = 0.91\n",
      "chi² =   17.39 (dPhi = 95.30%) lam: 50.0\n",
      "--------------------------------------------------------------------------------\n",
      "inv.iter 2 ... Calculating response for model: min = 1.54264 max = 1172.31\n",
      "Using existing primary potentials.\n",
      "Forward: time: 0.675891s\n",
      "Response: min = 3.22234 max = 482.576 mean = 91.5741\n",
      "Reciprocity rms(modelReciprocity) 2.36549%, max: 18.93%\n",
      "1: Model: min = 1.54264; max = 1172.31\n",
      "1: Response: min = 3.18066; max = 458.28\n",
      "1: rms/rrms(data, Response) = 17.9313/15.5504%\n",
      "1: chi^2(data, Response, error, log) = 17.3871\n",
      "1: Phi = 66610.1+23.1105*50=67765.6\n",
      "Calculating Jacobian matrix (forced=1)...Using existing subpotentials for createJacobian.\n",
      "S(8/8-std::mt): 0.0054721:time: 11.4715s\n",
      "sens sum: median = 1.15197 min = 0.66967 max = 1.80855\n",
      "... 11.4897 s\n",
      "solve CGLSCDWWtrans with lambda = 50\n",
      "Calculating response for model: min = 13.9128 max = 1044.36\n",
      "Using existing primary potentials.\n",
      "Forward: time: 0.554722s\n",
      "Response: min = 24.2546 max = 573.599 mean = 103.465\n",
      "Reciprocity rms(modelReciprocity) 1.50023%, max: 11.0667%\n",
      "2: LS newModel: min = 13.9128; max = 1044.36\n",
      "2: LS newResponse: min = 24.2593; max = 558.805\n",
      "2: rms/rrms(data, LS newResponse) = 9.11472/30.8223%\n",
      "2: chi^2(data, LS newResponse, error, log) = 17.487\n",
      "2: Phi = 66992.8+17.3672*50=67861.1\n",
      "Performing line search with tau = 0.5\n",
      "Calculating response for model: min = 12.6045 max = 1016.74\n",
      "Using existing primary potentials.\n",
      "Forward: time: 0.552376s\n",
      "Response: min = 19.0277 max = 537.664 mean = 96.5853\n",
      "Reciprocity rms(modelReciprocity) 1.87362%, max: 12.0456%\n",
      "chi² =    2.68 (dPhi = 83.60%) lam: 50.0\n",
      "--------------------------------------------------------------------------------\n",
      "inv.iter 3 ... 2: Model: min = 12.6045; max = 1016.74\n",
      "2: Response: min = 18.9886; max = 506.55\n",
      "2: rms/rrms(data, Response) = 10.2817/7.47433%\n",
      "2: chi^2(data, Response, error, log) = 2.68172\n",
      "2: Phi = 10273.7+16.7368*50=11110.5\n",
      "Calculating Jacobian matrix (forced=1)...Using existing subpotentials for createJacobian.\n",
      "S(8/8-std::mt): 0.00611065:time: 11.5211s\n",
      "sens sum: median = 1.12293 min = 0.643036 max = 1.52741\n",
      "... 11.5347 s\n",
      "solve CGLSCDWWtrans with lambda = 50\n",
      "Calculating response for model: min = 7.93986 max = 975.239\n",
      "Using existing primary potentials.\n",
      "Forward: time: 0.54007s\n",
      "Response: min = 19.6323 max = 607.65 mean = 99.939\n",
      "Reciprocity rms(modelReciprocity) 1.44051%, max: 11.7547%\n",
      "Performing line search with tau = 1\n",
      "3: Model: min = 7.93986; max = 975.239\n",
      "3: Response: min = 19.59; max = 594.854\n",
      "3: rms/rrms(data, Response) = 3.23375/4.94314%\n",
      "3: chi^2(data, Response, error, log) = 0.324372\n",
      "3: Phi = 1242.67+16.5646*50=2070.9\n",
      "chi² =    0.32 (dPhi = 81.36%) lam: 50.0\n",
      "\n",
      "\n",
      "################################################################################\n",
      "#                  Abort criterion reached: chi² <= 1 (0.32)                   #\n",
      "################################################################################\n"
     ]
    },
    {
     "data": {
      "text/plain": [
       "1241 [44.356527551017265,...,16.414794019252444]"
      ]
     },
     "execution_count": 26,
     "metadata": {},
     "output_type": "execute_result"
    }
   ],
   "source": [
    "mgr = ert.ERTManager(_3J1)\n",
    "mgr.invert(verbose=True,\n",
    "           #paraDX=0.3, paraMaxCellSize=10, paraDepth=80, quality=50,\n",
    "           lam=50, \n",
    "           zWeight=0.3,\n",
    "          )"
   ]
  },
  {
   "cell_type": "code",
   "execution_count": 27,
   "id": "1de1e832-a9b8-4a0d-96bf-545a8a2ca4b7",
   "metadata": {},
   "outputs": [
    {
     "name": "stderr",
     "output_type": "stream",
     "text": [
      "21/06/24 - 11:10:33 - pyGIMLi - \u001b[0;32;49mINFO\u001b[0m - Use median(data values)=74.3729206812466\n",
      "21/06/24 - 11:10:33 - pyGIMLi - \u001b[0;32;49mINFO\u001b[0m - Created startmodel from forward operator: 1241, min/max=74.372921/74.372921\n",
      "21/06/24 - 11:10:33 - pyGIMLi - \u001b[0;32;49mINFO\u001b[0m - Starting inversion.\n"
     ]
    },
    {
     "name": "stdout",
     "output_type": "stream",
     "text": [
      "Found datafile: 84 electrodes\n",
      "Found: 84 node-electrodes\n",
      "Found non-Neumann domain\n",
      " updateDataDependency:: cleaning primpot\n",
      "min/max(dweight) = 0.415246/33.3197\n",
      "fop: <pygimli.physics.ert.ertModelling.ERTModelling object at 0x7f6f665ace50>\n",
      "Data transformation: <pgcore._pygimli_.RTransLogLU object at 0x7f6f66007060>\n",
      "Model transformation (cumulative):\n",
      "\t 0 <pgcore._pygimli_.RTransLogLU object at 0x7f6f665e38b0>\n",
      "min/max (data): 13.18/625\n",
      "min/max (error): 3%/241%\n",
      "min/max (start model): 74.37/74.37\n",
      "--------------------------------------------------------------------------------\n",
      "use model trans from RegionManager\n",
      "Calculating response for model: min = 74.3729 max = 74.3729\n",
      "Allocating memory for primary potential...... 0.00460395\n",
      "\n",
      "No primary potential for secondary field calculation with topography.\n",
      "Creating P2-Primmesh:\t\tNodes: 13089\tCells: 6328\tBoundaries: 9708\n",
      "ModellingBase::setMesh() copying new mesh ... Found topography for surface=54.6106 : 54.6379\n",
      "Found datafile: 84 electrodes\n",
      "Found: 84 node-electrodes\n",
      "rMin = 1.25, rMax = 415\n",
      "NGauLeg + NGauLag for inverse Fouriertransformation: 15 + 4\n",
      "Found non-Neumann domain\n",
      "0.0191728 s\n",
      "FOP updating mesh dependencies ... 1.49e-06 s\n",
      "Forward: time: 13.5699s\n",
      "Interpolating to secondary mesh\n",
      "\n",
      "957 \t/ 15inv.iter 0 ... chi² =  376.58\n",
      "--------------------------------------------------------------------------------\n",
      "1114 \t/ 159chi² =   19.12 (dPhi = 94.88%) lam: 20.0\n",
      "--------------------------------------------------------------------------------\n",
      "1596 \t/ 1596.. 6 1596\n",
      "Forward: time: 16.3936s\n",
      "Response: min = 74.3729 max = 74.3729 mean = 74.3729\n",
      "Reciprocity rms(modelReciprocity) 0%, max: 0%\n",
      "min/max(dweight) = 0.415246/33.3197\n",
      " found valid constraints matrix. omit rebuild\n",
      "constraint matrix of size(nBounds x nModel) 1760 x 1241\n",
      "Calculating Jacobian matrix (forced=1)...Using existing subpotentials for createJacobian.\n",
      "S(8/8-std::mt): 0.00727177:time: 11.1186s\n",
      "sens sum: median = 0.991391 min = 0.534643 max = 1.50085\n",
      "... 11.1357 s\n",
      "min data = 13.1804 max data = 624.754 (3831)\n",
      "min error = 0.0300123 max error = 2.40821 (3831)\n",
      "min response = 74.3729 max response = 74.3729 (3831)\n",
      "calc without reference model\n",
      "0: rms/rrms(data, response) = 86.8418/78.1996%\n",
      "0: chi^2(data, response, error, log) = 376.578\n",
      "0: Phi = 1.44267e+06 + 0 * 20 = 1.44267e+06\n",
      "solve CGLSCDWWtrans with lambda = 20\n",
      "Calculating response for model: min = 0.785838 max = 1704.42\n",
      "Using existing primary potentials.\n",
      "Forward: time: 0.713197s\n",
      "Response: min = 1.82621 max = 550.536 mean = 95.3424\n",
      "Reciprocity rms(modelReciprocity) 3.07302%, max: 25.5035%\n",
      "1: LS newModel: min = 0.785838; max = 1704.42\n",
      "1: LS newResponse: min = 1.77654; max = 549.529\n",
      "1: rms/rrms(data, LS newResponse) = 13.232/17.4556%\n",
      "1: chi^2(data, LS newResponse, error, log) = 23.0781\n",
      "1: Phi = 88412+37.3401*20=89158.8\n",
      "Performing line search with tau = 0.91\n",
      "Calculating response for model: min = 1.18353 max = 1285.77\n",
      "Using existing primary potentials.\n",
      "Forward: time: 1.01167s\n",
      "Response: min = 2.829 max = 462.802 mean = 91.03\n",
      "Reciprocity rms(modelReciprocity) 2.754%, max: 22.5037%\n",
      "1: Model: min = 1.18353; max = 1285.77\n",
      "1: Response: min = 2.78245; max = 458.891\n",
      "1: rms/rrms(data, Response) = 19.3772/15.9661%\n",
      "1: chi^2(data, Response, error, log) = 19.1155\n",
      "1: Phi = 73231.3+30.9214*20=73849.8\n",
      "Calculating Jacobian matrix (forced=1)...Using existing subpotentials for createJacobian.\n",
      "S(8/8-std::mt): 0.0100257:time: 10.2016s\n",
      "sens sum: median = 1.15816 min = 0.644259 max = 1.83279\n",
      "... 10.2154 s\n",
      "solve CGLSCDWWtrans with lambda = 20\n",
      "Calculating response for model: min = 9.51822 max = 1034.24\n",
      "Using existing primary potentials.\n",
      "Forward: time: 0.602689s\n",
      "Response: min = 19.949 max = 546.786 mean = 103.482\n",
      "Reciprocity rms(modelReciprocity) 1.52789%, max: 13.0831%\n",
      "2: LS newModel: min = 9.51822; max = 1034.24\n",
      "2: LS newResponse: min = 19.919; max = 549.536\n",
      "2: rms/rrms(data, LS newResponse) = 11.6171/36.4419%\n",
      "2: chi^2(data, LS newResponse, error, log) = 22.3521\n",
      "2: Phi = 85630.8+23.3635*20=86098\n",
      "Performing line search with tau = 0.48\n",
      "Calculating response for model: min = 10.2328 max = 955.312\n",
      "Using existing primary potentials.\n",
      "Forward: time: 0.543s\n",
      "Response: min = 19.241 max = 511.893 mean = 96.1947\n",
      "Reciprocity rms(modelReciprocity) 2.07787%, max: 14.4921%\n",
      "chi² =    3.50 (dPhi = 81.26%) lam: 20.0\n",
      "--------------------------------------------------------------------------------\n",
      "inv.iter 3 ... 2: Model: min = 10.2328; max = 955.312\n",
      "2: Response: min = 19.0889; max = 500.88\n",
      "2: rms/rrms(data, Response) = 11.8614/8.09256%\n",
      "2: chi^2(data, Response, error, log) = 3.50417\n",
      "2: Phi = 13424.5+20.8998*20=13842.5\n",
      "Calculating Jacobian matrix (forced=1)...Using existing subpotentials for createJacobian.\n",
      "S(8/8-std::mt): 0.00552795:time: 9.42861s\n",
      "sens sum: median = 1.13615 min = 0.707986 max = 1.56822\n",
      "... 9.44224 s\n",
      "solve CGLSCDWWtrans with lambda = 20\n",
      "Calculating response for model: min = 6.83555 max = 1010.94\n",
      "Using existing primary potentials.\n",
      "Forward: time: 0.536626s\n",
      "Response: min = 17.8062 max = 588.063 mean = 99.5232\n",
      "Reciprocity rms(modelReciprocity) 1.43668%, max: 12.3572%\n",
      "Performing line search with tau = 1\n",
      "3: Model: min = 6.83555; max = 1010.94\n",
      "3: Response: min = 17.7936; max = 579.289\n",
      "3: rms/rrms(data, Response) = 3.68099/4.86709%\n",
      "3: chi^2(data, Response, error, log) = 0.348132\n",
      "3: Phi = 1333.69+19.2914*20=1719.52\n",
      "chi² =    0.35 (dPhi = 87.58%) lam: 20.0\n",
      "\n",
      "\n",
      "################################################################################\n",
      "#                  Abort criterion reached: chi² <= 1 (0.35)                   #\n",
      "################################################################################\n"
     ]
    },
    {
     "ename": "AssertionError",
     "evalue": "\nItems are not equal to 1 significant digits:\n ACTUAL: 0.3481322697595383\n DESIRED: 0.9",
     "output_type": "error",
     "traceback": [
      "\u001b[0;31m---------------------------------------------------------------------------\u001b[0m",
      "\u001b[0;31mAssertionError\u001b[0m                            Traceback (most recent call last)",
      "Cell \u001b[0;32mIn[27], line 2\u001b[0m\n\u001b[1;32m      1\u001b[0m inv \u001b[38;5;241m=\u001b[39m mgr\u001b[38;5;241m.\u001b[39minvert(lam\u001b[38;5;241m=\u001b[39m\u001b[38;5;241m20\u001b[39m, verbose\u001b[38;5;241m=\u001b[39m\u001b[38;5;28;01mTrue\u001b[39;00m)\n\u001b[0;32m----> 2\u001b[0m \u001b[43mnp\u001b[49m\u001b[38;5;241;43m.\u001b[39;49m\u001b[43mtesting\u001b[49m\u001b[38;5;241;43m.\u001b[39;49m\u001b[43massert_approx_equal\u001b[49m\u001b[43m(\u001b[49m\u001b[43mmgr\u001b[49m\u001b[38;5;241;43m.\u001b[39;49m\u001b[43minv\u001b[49m\u001b[38;5;241;43m.\u001b[39;49m\u001b[43mchi2\u001b[49m\u001b[43m(\u001b[49m\u001b[43m)\u001b[49m\u001b[43m,\u001b[49m\u001b[43m \u001b[49m\u001b[38;5;241;43m0.9\u001b[39;49m\u001b[43m,\u001b[49m\u001b[43m \u001b[49m\u001b[43msignificant\u001b[49m\u001b[38;5;241;43m=\u001b[39;49m\u001b[38;5;241;43m1\u001b[39;49m\u001b[43m)\u001b[49m\n",
      "File \u001b[0;32m~/miniconda3/miniconda3/envs/pg/lib/python3.11/contextlib.py:81\u001b[0m, in \u001b[0;36mContextDecorator.__call__.<locals>.inner\u001b[0;34m(*args, **kwds)\u001b[0m\n\u001b[1;32m     78\u001b[0m \u001b[38;5;129m@wraps\u001b[39m(func)\n\u001b[1;32m     79\u001b[0m \u001b[38;5;28;01mdef\u001b[39;00m \u001b[38;5;21minner\u001b[39m(\u001b[38;5;241m*\u001b[39margs, \u001b[38;5;241m*\u001b[39m\u001b[38;5;241m*\u001b[39mkwds):\n\u001b[1;32m     80\u001b[0m     \u001b[38;5;28;01mwith\u001b[39;00m \u001b[38;5;28mself\u001b[39m\u001b[38;5;241m.\u001b[39m_recreate_cm():\n\u001b[0;32m---> 81\u001b[0m         \u001b[38;5;28;01mreturn\u001b[39;00m \u001b[43mfunc\u001b[49m\u001b[43m(\u001b[49m\u001b[38;5;241;43m*\u001b[39;49m\u001b[43margs\u001b[49m\u001b[43m,\u001b[49m\u001b[43m \u001b[49m\u001b[38;5;241;43m*\u001b[39;49m\u001b[38;5;241;43m*\u001b[39;49m\u001b[43mkwds\u001b[49m\u001b[43m)\u001b[49m\n",
      "File \u001b[0;32m~/miniconda3/miniconda3/envs/pg/lib/python3.11/site-packages/numpy/testing/_private/utils.py:638\u001b[0m, in \u001b[0;36massert_approx_equal\u001b[0;34m(actual, desired, significant, err_msg, verbose)\u001b[0m\n\u001b[1;32m    636\u001b[0m     \u001b[38;5;28;01mpass\u001b[39;00m\n\u001b[1;32m    637\u001b[0m \u001b[38;5;28;01mif\u001b[39;00m np\u001b[38;5;241m.\u001b[39mabs(sc_desired \u001b[38;5;241m-\u001b[39m sc_actual) \u001b[38;5;241m>\u001b[39m\u001b[38;5;241m=\u001b[39m np\u001b[38;5;241m.\u001b[39mpower(\u001b[38;5;241m10.\u001b[39m, \u001b[38;5;241m-\u001b[39m(significant\u001b[38;5;241m-\u001b[39m\u001b[38;5;241m1\u001b[39m)):\n\u001b[0;32m--> 638\u001b[0m     \u001b[38;5;28;01mraise\u001b[39;00m \u001b[38;5;167;01mAssertionError\u001b[39;00m(msg)\n",
      "\u001b[0;31mAssertionError\u001b[0m: \nItems are not equal to 1 significant digits:\n ACTUAL: 0.3481322697595383\n DESIRED: 0.9"
     ]
    }
   ],
   "source": [
    "inv = mgr.invert(lam=20, verbose=True)\n",
    "np.testing.assert_approx_equal(mgr.inv.chi2(), 0.9, significant=1)"
   ]
  },
  {
   "cell_type": "code",
   "execution_count": null,
   "id": "d9b9686e-92f0-4900-8a10-006b8b78d44c",
   "metadata": {},
   "outputs": [],
   "source": [
    "mgr.showResultAndFit()\n",
    "meshPD = pg.Mesh(mgr.paraDomain) # Save copy of para mesh for plotting later"
   ]
  },
  {
   "cell_type": "code",
   "execution_count": null,
   "id": "0f4501e7-f324-48ab-8863-12bbf42a427a",
   "metadata": {},
   "outputs": [],
   "source": [
    "mgr.showResult(cMin=0, cMax=2000)"
   ]
  },
  {
   "cell_type": "code",
   "execution_count": null,
   "id": "aa453898-824b-4191-a9cd-1cce38be8df6",
   "metadata": {},
   "outputs": [],
   "source": [
    "geo = pg.meshtools.createParaMeshPLC(_3J1, paraMaxCellSize=100)\n",
    "#geo += line\n",
    "ax, _ = pg.show(geo);\n",
    "ax.set_xlim(-20, 230);\n",
    "ax.set_ylim(-60, 5);"
   ]
  },
  {
   "cell_type": "code",
   "execution_count": 1,
   "id": "fe9b8075-deab-43fd-a46e-5e18a5dd5a51",
   "metadata": {},
   "outputs": [
    {
     "ename": "NameError",
     "evalue": "name 'pg' is not defined",
     "output_type": "error",
     "traceback": [
      "\u001b[0;31m---------------------------------------------------------------------------\u001b[0m",
      "\u001b[0;31mNameError\u001b[0m                                 Traceback (most recent call last)",
      "Cell \u001b[0;32mIn[1], line 1\u001b[0m\n\u001b[0;32m----> 1\u001b[0m \u001b[43mpg\u001b[49m\u001b[38;5;241m.\u001b[39mshow(geo)\n",
      "\u001b[0;31mNameError\u001b[0m: name 'pg' is not defined"
     ]
    }
   ],
   "source": [
    "pg.show(geo)"
   ]
  },
  {
   "cell_type": "code",
   "execution_count": null,
   "id": "111e8ad3-47c1-49a7-971f-4f9e4b1fa3d0",
   "metadata": {},
   "outputs": [],
   "source": []
  }
 ],
 "metadata": {
  "kernelspec": {
   "display_name": "Python 3 (ipykernel)",
   "language": "python",
   "name": "python3"
  },
  "language_info": {
   "codemirror_mode": {
    "name": "ipython",
    "version": 3
   },
   "file_extension": ".py",
   "mimetype": "text/x-python",
   "name": "python",
   "nbconvert_exporter": "python",
   "pygments_lexer": "ipython3",
   "version": "3.11.9"
  }
 },
 "nbformat": 4,
 "nbformat_minor": 5
}
